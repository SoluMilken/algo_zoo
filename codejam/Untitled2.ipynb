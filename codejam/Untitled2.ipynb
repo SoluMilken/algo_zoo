{
 "cells": [
  {
   "cell_type": "code",
   "execution_count": null,
   "metadata": {},
   "outputs": [],
   "source": [
    "# import random\n",
    "t = int(input()) # read a line with a single integer\n",
    "for i in range(1, t + 1):\n",
    "    N = int(input())\n",
    "    all_flavors = list(range(N))\n",
    "    prefs = [int(s) for s in input().split(\" \")]\n",
    "    num_prefs = prefs[0]\n",
    "    prefs = prefs[1:]\n",
    "    candidates = list(set(all_flavors).intersection(set(prefs)))\n",
    "    if (num_prefs == 0) or (len(candidates) == 0):\n",
    "        print(-1, flush=True)\n",
    "    else:\n",
    "#         random.shuffle(candidates)\n",
    "        all_flavors.remove(candidates[0])\n",
    "        print(candidates[0], flush=True)\n",
    "        \n",
    "    \n",
    "t = readline_int()           // reads 10 into t\n",
    "  n = readline_int()           // reads 4 into n (four customers & flavors)\n",
    "  prefs = readline_int_list()  // reads 1 2 (customer only likes flavor 2)\n",
    "  printline 2 to stdout        // sells this customer flavor 2\n",
    "  flush stdout\n",
    "  prefs = readline_int_list()  // reads 0 (customer likes nothing)\n",
    "  printline -1 to stdout       // no flavor to sell to the customer!\n",
    "  flush stdout\n",
    "  prefs = readline_int_list()  // reads 1 2 (customer only likes flavor 2)\n",
    "  printline -1 to stdout       // already used flavor 2, so no flavor to sell\n",
    "  flush stdout\n",
    "  prefs = readline_int_list()  // reads 2 1 3 (customer likes 1 and 3)\n",
    "  printline 3 to stdout        // note: we could have also sold flavor 1"
   ]
  }
 ],
 "metadata": {
  "kernelspec": {
   "display_name": "Python 3",
   "language": "python",
   "name": "python3"
  },
  "language_info": {
   "codemirror_mode": {
    "name": "ipython",
    "version": 3
   },
   "file_extension": ".py",
   "mimetype": "text/x-python",
   "name": "python",
   "nbconvert_exporter": "python",
   "pygments_lexer": "ipython3",
   "version": "3.5.2"
  }
 },
 "nbformat": 4,
 "nbformat_minor": 2
}
