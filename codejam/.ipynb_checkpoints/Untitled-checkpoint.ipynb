{
 "cells": [
  {
   "cell_type": "code",
   "execution_count": 11,
   "metadata": {},
   "outputs": [],
   "source": [
    "def preprocessing(word_list):\n",
    "    output = {}\n",
    "    for word in word_list:\n",
    "        for i, char in enumerate(word):\n",
    "            if i not in output:\n",
    "                output[i] = [char]\n",
    "            else:\n",
    "                output[i].extend(char)\n",
    "    total_combination = 1\n",
    "    for key, value in output.items():\n",
    "        output[key] = list(set(output[key]))\n",
    "        total_combination *= len(output[key])\n",
    "    return output, total_combination"
   ]
  },
  {
   "cell_type": "code",
   "execution_count": 12,
   "metadata": {},
   "outputs": [
    {
     "data": {
      "text/plain": [
       "({0: ['g', 'a', 'c'], 1: ['a', 'g', 'b'], 2: ['g', 'r', 'c']}, 27)"
      ]
     },
     "execution_count": 12,
     "metadata": {},
     "output_type": "execute_result"
    }
   ],
   "source": [
    "preprocessing([\"car\", \"abc\", \"ggg\", \"cbr\"])"
   ]
  },
  {
   "cell_type": "code",
   "execution_count": 13,
   "metadata": {},
   "outputs": [
    {
     "data": {
      "text/plain": [
       "676"
      ]
     },
     "execution_count": 13,
     "metadata": {},
     "output_type": "execute_result"
    }
   ],
   "source": [
    "26 * 26"
   ]
  },
  {
   "cell_type": "code",
   "execution_count": null,
   "metadata": {},
   "outputs": [],
   "source": [
    "import random\n",
    "\n"
   ]
  },
  {
   "cell_type": "code",
   "execution_count": null,
   "metadata": {},
   "outputs": [],
   "source": [
    "import random\n",
    "\n",
    "t = int(input()) # read a line with a single integer\n",
    "for i in range(1, t + 1):\n",
    "    N, L = [int(s) for s in input().split(\" \")]\n",
    "    word_list = []\n",
    "    for j in range(N):\n",
    "        word = input()\n",
    "        word_list.append(str(word))\n",
    "    \n",
    "    word_dict, total_com = preprocessing(word_list=word_list)\n",
    "    if len(word_list) >= total_com:\n",
    "        print(\"Case #{}: {}\".format(i, \"-\"))\n",
    "    else:\n",
    "        output_word = word_list[0]\n",
    "        while(output_word in word_list):\n",
    "            output_word = \"\"\n",
    "            for idx in range(L):\n",
    "                random.shuffle(output_dict[idx])\n",
    "                output_word += output_dict[idx][0]\n",
    "            if output_word not in word_list:\n",
    "                break;\n",
    "        print(\"Case #{}: {}\".format(i, output_word))"
   ]
  }
 ],
 "metadata": {
  "kernelspec": {
   "display_name": "Python 3",
   "language": "python",
   "name": "python3"
  },
  "language_info": {
   "codemirror_mode": {
    "name": "ipython",
    "version": 3
   },
   "file_extension": ".py",
   "mimetype": "text/x-python",
   "name": "python",
   "nbconvert_exporter": "python",
   "pygments_lexer": "ipython3",
   "version": "3.5.2"
  }
 },
 "nbformat": 4,
 "nbformat_minor": 2
}
