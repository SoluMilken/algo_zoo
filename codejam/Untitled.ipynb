{
 "cells": [
  {
   "cell_type": "code",
   "execution_count": 11,
   "metadata": {},
   "outputs": [],
   "source": [
    "def preprocessing(word_list):\n",
    "    output = {}\n",
    "    for word in word_list:\n",
    "        for i, char in enumerate(word):\n",
    "            if i not in output:\n",
    "                output[i] = [char]\n",
    "            else:\n",
    "                output[i].extend(char)\n",
    "    total_combination = 1\n",
    "    for key, value in output.items():\n",
    "        output[key] = list(set(output[key]))\n",
    "        total_combination *= len(output[key])\n",
    "    return output, total_combination"
   ]
  },
  {
   "cell_type": "code",
   "execution_count": 12,
   "metadata": {},
   "outputs": [
    {
     "data": {
      "text/plain": [
       "({0: ['g', 'a', 'c'], 1: ['a', 'g', 'b'], 2: ['g', 'r', 'c']}, 27)"
      ]
     },
     "execution_count": 12,
     "metadata": {},
     "output_type": "execute_result"
    }
   ],
   "source": [
    "preprocessing([\"car\", \"abc\", \"ggg\", \"cbr\"])"
   ]
  },
  {
   "cell_type": "code",
   "execution_count": 13,
   "metadata": {},
   "outputs": [
    {
     "data": {
      "text/plain": [
       "676"
      ]
     },
     "execution_count": 13,
     "metadata": {},
     "output_type": "execute_result"
    }
   ],
   "source": [
    "26 * 26"
   ]
  },
  {
   "cell_type": "code",
   "execution_count": 24,
   "metadata": {},
   "outputs": [],
   "source": [
    "import random\n",
    "def main_p(N, L, word_list):\n",
    "    word_dict, total_com = preprocessing(word_list=word_list)\n",
    "    if len(word_list) >= total_com:\n",
    "        return \"-\"\n",
    "    else:\n",
    "        output_word = word_list[0]\n",
    "        while(output_word in word_list):\n",
    "            output_word = \"\"\n",
    "            for idx in range(L):\n",
    "                random.shuffle(word_dict[idx])\n",
    "                output_word += word_dict[idx][0]\n",
    "            if output_word not in word_list:\n",
    "                break;\n",
    "    return output_word"
   ]
  },
  {
   "cell_type": "code",
   "execution_count": 16,
   "metadata": {},
   "outputs": [
    {
     "ename": "NameError",
     "evalue": "name 'i' is not defined",
     "output_type": "error",
     "traceback": [
      "\u001b[0;31m---------------------------------------------------------------------------\u001b[0m",
      "\u001b[0;31mNameError\u001b[0m                                 Traceback (most recent call last)",
      "\u001b[0;32m<ipython-input-16-df92febc473e>\u001b[0m in \u001b[0;36m<module>\u001b[0;34m()\u001b[0m\n\u001b[0;32m----> 1\u001b[0;31m \u001b[0mmain\u001b[0m\u001b[0;34m(\u001b[0m\u001b[0mN\u001b[0m\u001b[0;34m=\u001b[0m\u001b[0;36m4\u001b[0m\u001b[0;34m,\u001b[0m \u001b[0mL\u001b[0m\u001b[0;34m=\u001b[0m\u001b[0;36m1\u001b[0m\u001b[0;34m,\u001b[0m \u001b[0mword_list\u001b[0m\u001b[0;34m=\u001b[0m\u001b[0;34m[\u001b[0m\u001b[0;34m\"A\"\u001b[0m\u001b[0;34m,\u001b[0m \u001b[0;34m\"B\"\u001b[0m\u001b[0;34m,\u001b[0m \u001b[0;34m\"C\"\u001b[0m\u001b[0;34m,\u001b[0m \u001b[0;34m\"D\"\u001b[0m\u001b[0;34m]\u001b[0m\u001b[0;34m)\u001b[0m\u001b[0;34m\u001b[0m\u001b[0m\n\u001b[0m",
      "\u001b[0;32m<ipython-input-14-a14c056e5cb2>\u001b[0m in \u001b[0;36mmain\u001b[0;34m(N, L, word_list)\u001b[0m\n\u001b[1;32m      2\u001b[0m     \u001b[0mword_dict\u001b[0m\u001b[0;34m,\u001b[0m \u001b[0mtotal_com\u001b[0m \u001b[0;34m=\u001b[0m \u001b[0mpreprocessing\u001b[0m\u001b[0;34m(\u001b[0m\u001b[0mword_list\u001b[0m\u001b[0;34m=\u001b[0m\u001b[0mword_list\u001b[0m\u001b[0;34m)\u001b[0m\u001b[0;34m\u001b[0m\u001b[0m\n\u001b[1;32m      3\u001b[0m     \u001b[0;32mif\u001b[0m \u001b[0mlen\u001b[0m\u001b[0;34m(\u001b[0m\u001b[0mword_list\u001b[0m\u001b[0;34m)\u001b[0m \u001b[0;34m>=\u001b[0m \u001b[0mtotal_com\u001b[0m\u001b[0;34m:\u001b[0m\u001b[0;34m\u001b[0m\u001b[0m\n\u001b[0;32m----> 4\u001b[0;31m         \u001b[0mprint\u001b[0m\u001b[0;34m(\u001b[0m\u001b[0;34m\"Case #{}: {}\"\u001b[0m\u001b[0;34m.\u001b[0m\u001b[0mformat\u001b[0m\u001b[0;34m(\u001b[0m\u001b[0mi\u001b[0m\u001b[0;34m,\u001b[0m \u001b[0;34m\"-\"\u001b[0m\u001b[0;34m)\u001b[0m\u001b[0;34m)\u001b[0m\u001b[0;34m\u001b[0m\u001b[0m\n\u001b[0m\u001b[1;32m      5\u001b[0m     \u001b[0;32melse\u001b[0m\u001b[0;34m:\u001b[0m\u001b[0;34m\u001b[0m\u001b[0m\n\u001b[1;32m      6\u001b[0m         \u001b[0moutput_word\u001b[0m \u001b[0;34m=\u001b[0m \u001b[0mword_list\u001b[0m\u001b[0;34m[\u001b[0m\u001b[0;36m0\u001b[0m\u001b[0;34m]\u001b[0m\u001b[0;34m\u001b[0m\u001b[0m\n",
      "\u001b[0;31mNameError\u001b[0m: name 'i' is not defined"
     ]
    }
   ],
   "source": []
  },
  {
   "cell_type": "code",
   "execution_count": 27,
   "metadata": {},
   "outputs": [
    {
     "name": "stdout",
     "output_type": "stream",
     "text": [
      "1\n",
      "5 7\n",
      "HELPIAM\n",
      "TRAPPED\n",
      "INSIDEA\n",
      "CODEJAM\n",
      "FACTORY\n",
      "Case #1: IAAEDRA\n"
     ]
    }
   ],
   "source": [
    "import random\n",
    "\n",
    "def preprocessing(word_list):\n",
    "    output = {}\n",
    "    for word in word_list:\n",
    "        for i, char in enumerate(word):\n",
    "            if i not in output:\n",
    "                output[i] = [char]\n",
    "            else:\n",
    "                output[i].extend(char)\n",
    "    total_combination = 1\n",
    "    for key, value in output.items():\n",
    "        output[key] = list(set(output[key]))\n",
    "        total_combination *= len(output[key])\n",
    "    return output, total_combination\n",
    "\n",
    "def main_p(N, L, word_list):\n",
    "    word_dict, total_com = preprocessing(word_list=word_list)\n",
    "    if len(word_list) >= total_com:\n",
    "        return \"-\"\n",
    "    else:\n",
    "        output_word = word_list[0]\n",
    "        while(output_word in word_list):\n",
    "            output_word = \"\"\n",
    "            for idx in range(L):\n",
    "                random.shuffle(word_dict[idx])\n",
    "                output_word += word_dict[idx][0]\n",
    "            if output_word not in word_list:\n",
    "                break;\n",
    "    return output_word\n",
    "\n",
    "t = int(input()) # read a line with a single integer\n",
    "for i in range(1, t + 1):\n",
    "    N, L = [int(s) for s in input().split(\" \")]\n",
    "    word_list = []\n",
    "    for j in range(N):\n",
    "        word = input()\n",
    "        word_list.append(str(word))\n",
    "    output = main_p(N=N, L=L, word_list=word_list)\n",
    "    print(\"Case #{}: {}\".format(i, output))\n"
   ]
  },
  {
   "cell_type": "code",
   "execution_count": null,
   "metadata": {},
   "outputs": [],
   "source": []
  }
 ],
 "metadata": {
  "kernelspec": {
   "display_name": "Python 3",
   "language": "python",
   "name": "python3"
  },
  "language_info": {
   "codemirror_mode": {
    "name": "ipython",
    "version": 3
   },
   "file_extension": ".py",
   "mimetype": "text/x-python",
   "name": "python",
   "nbconvert_exporter": "python",
   "pygments_lexer": "ipython3",
   "version": "3.5.2"
  }
 },
 "nbformat": 4,
 "nbformat_minor": 2
}
